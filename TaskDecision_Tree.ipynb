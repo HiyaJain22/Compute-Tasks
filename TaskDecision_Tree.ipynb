{
  "nbformat": 4,
  "nbformat_minor": 0,
  "metadata": {
    "colab": {
      "provenance": [],
      "include_colab_link": true
    },
    "kernelspec": {
      "name": "python3",
      "display_name": "Python 3"
    },
    "language_info": {
      "name": "python"
    }
  },
  "cells": [
    {
      "cell_type": "markdown",
      "metadata": {
        "id": "view-in-github",
        "colab_type": "text"
      },
      "source": [
        "<a href=\"https://colab.research.google.com/github/HiyaJain22/Compute-Tasks/blob/main/TaskDecision_Tree.ipynb\" target=\"_parent\"><img src=\"https://colab.research.google.com/assets/colab-badge.svg\" alt=\"Open In Colab\"/></a>"
      ]
    },
    {
      "cell_type": "markdown",
      "source": [
        "# Decision Tree "
      ],
      "metadata": {
        "id": "Hth-G5SWVh33"
      }
    },
    {
      "cell_type": "markdown",
      "source": [
        "[Dataset](https://drive.google.com/file/d/1EeorIZFT2JSM_KeFgnkwD_TqafeuoxNB/view?usp=sharing)"
      ],
      "metadata": {
        "id": "DcqkRYSVXONu"
      }
    },
    {
      "cell_type": "markdown",
      "source": [
        "The datasets consist of several medical predictor (independent) variables and one target (dependent) variable, Outcome. Independent variables include the number of pregnancies the patient has had, their BMI, insulin level, age, and so on."
      ],
      "metadata": {
        "id": "6Fn4KDmoXBKq"
      }
    },
    {
      "cell_type": "code",
      "execution_count": null,
      "metadata": {
        "id": "gC41NBhJUrRq"
      },
      "outputs": [],
      "source": [
        "# Load libraries\n",
        "import pandas as pd\n",
        "from sklearn.tree import DecisionTreeClassifier # Import Decision Tree Classifier\n",
        "from sklearn.model_selection import train_test_split # Import train_test_split function\n",
        "from sklearn import metrics #Import scikit-learn metrics module for accuracy calculation\n"
      ]
    },
    {
      "cell_type": "code",
      "source": [
        "\n",
        "df=pd.read_csv(\"/content/diabetes.csv\")"
      ],
      "metadata": {
        "id": "GHvpv0y3WDJ8"
      },
      "execution_count": null,
      "outputs": []
    },
    {
      "cell_type": "markdown",
      "source": [
        "**Loading Data**"
      ],
      "metadata": {
        "id": "m5wWc-TiXuKz"
      }
    },
    {
      "cell_type": "code",
      "source": [
        "df\n",
        "# load dataset"
      ],
      "metadata": {
        "id": "xX0K_f9WV_Dp",
        "colab": {
          "base_uri": "https://localhost:8080/",
          "height": 423
        },
        "outputId": "0aeef94a-bdbe-4470-a200-77ae75dfb167"
      },
      "execution_count": null,
      "outputs": [
        {
          "output_type": "execute_result",
          "data": {
            "text/plain": [
              "     Pregnancies  Glucose  BloodPressure  SkinThickness  Insulin   BMI  \\\n",
              "0              6      148             72             35        0  33.6   \n",
              "1              1       85             66             29        0  26.6   \n",
              "2              8      183             64              0        0  23.3   \n",
              "3              1       89             66             23       94  28.1   \n",
              "4              0      137             40             35      168  43.1   \n",
              "..           ...      ...            ...            ...      ...   ...   \n",
              "763           10      101             76             48      180  32.9   \n",
              "764            2      122             70             27        0  36.8   \n",
              "765            5      121             72             23      112  26.2   \n",
              "766            1      126             60              0        0  30.1   \n",
              "767            1       93             70             31        0  30.4   \n",
              "\n",
              "     DiabetesPedigreeFunction  Age  Outcome  \n",
              "0                       0.627   50        1  \n",
              "1                       0.351   31        0  \n",
              "2                       0.672   32        1  \n",
              "3                       0.167   21        0  \n",
              "4                       2.288   33        1  \n",
              "..                        ...  ...      ...  \n",
              "763                     0.171   63        0  \n",
              "764                     0.340   27        0  \n",
              "765                     0.245   30        0  \n",
              "766                     0.349   47        1  \n",
              "767                     0.315   23        0  \n",
              "\n",
              "[768 rows x 9 columns]"
            ],
            "text/html": [
              "\n",
              "  <div id=\"df-1f348a4d-e7ab-4f60-9829-a4c9085e953f\">\n",
              "    <div class=\"colab-df-container\">\n",
              "      <div>\n",
              "<style scoped>\n",
              "    .dataframe tbody tr th:only-of-type {\n",
              "        vertical-align: middle;\n",
              "    }\n",
              "\n",
              "    .dataframe tbody tr th {\n",
              "        vertical-align: top;\n",
              "    }\n",
              "\n",
              "    .dataframe thead th {\n",
              "        text-align: right;\n",
              "    }\n",
              "</style>\n",
              "<table border=\"1\" class=\"dataframe\">\n",
              "  <thead>\n",
              "    <tr style=\"text-align: right;\">\n",
              "      <th></th>\n",
              "      <th>Pregnancies</th>\n",
              "      <th>Glucose</th>\n",
              "      <th>BloodPressure</th>\n",
              "      <th>SkinThickness</th>\n",
              "      <th>Insulin</th>\n",
              "      <th>BMI</th>\n",
              "      <th>DiabetesPedigreeFunction</th>\n",
              "      <th>Age</th>\n",
              "      <th>Outcome</th>\n",
              "    </tr>\n",
              "  </thead>\n",
              "  <tbody>\n",
              "    <tr>\n",
              "      <th>0</th>\n",
              "      <td>6</td>\n",
              "      <td>148</td>\n",
              "      <td>72</td>\n",
              "      <td>35</td>\n",
              "      <td>0</td>\n",
              "      <td>33.6</td>\n",
              "      <td>0.627</td>\n",
              "      <td>50</td>\n",
              "      <td>1</td>\n",
              "    </tr>\n",
              "    <tr>\n",
              "      <th>1</th>\n",
              "      <td>1</td>\n",
              "      <td>85</td>\n",
              "      <td>66</td>\n",
              "      <td>29</td>\n",
              "      <td>0</td>\n",
              "      <td>26.6</td>\n",
              "      <td>0.351</td>\n",
              "      <td>31</td>\n",
              "      <td>0</td>\n",
              "    </tr>\n",
              "    <tr>\n",
              "      <th>2</th>\n",
              "      <td>8</td>\n",
              "      <td>183</td>\n",
              "      <td>64</td>\n",
              "      <td>0</td>\n",
              "      <td>0</td>\n",
              "      <td>23.3</td>\n",
              "      <td>0.672</td>\n",
              "      <td>32</td>\n",
              "      <td>1</td>\n",
              "    </tr>\n",
              "    <tr>\n",
              "      <th>3</th>\n",
              "      <td>1</td>\n",
              "      <td>89</td>\n",
              "      <td>66</td>\n",
              "      <td>23</td>\n",
              "      <td>94</td>\n",
              "      <td>28.1</td>\n",
              "      <td>0.167</td>\n",
              "      <td>21</td>\n",
              "      <td>0</td>\n",
              "    </tr>\n",
              "    <tr>\n",
              "      <th>4</th>\n",
              "      <td>0</td>\n",
              "      <td>137</td>\n",
              "      <td>40</td>\n",
              "      <td>35</td>\n",
              "      <td>168</td>\n",
              "      <td>43.1</td>\n",
              "      <td>2.288</td>\n",
              "      <td>33</td>\n",
              "      <td>1</td>\n",
              "    </tr>\n",
              "    <tr>\n",
              "      <th>...</th>\n",
              "      <td>...</td>\n",
              "      <td>...</td>\n",
              "      <td>...</td>\n",
              "      <td>...</td>\n",
              "      <td>...</td>\n",
              "      <td>...</td>\n",
              "      <td>...</td>\n",
              "      <td>...</td>\n",
              "      <td>...</td>\n",
              "    </tr>\n",
              "    <tr>\n",
              "      <th>763</th>\n",
              "      <td>10</td>\n",
              "      <td>101</td>\n",
              "      <td>76</td>\n",
              "      <td>48</td>\n",
              "      <td>180</td>\n",
              "      <td>32.9</td>\n",
              "      <td>0.171</td>\n",
              "      <td>63</td>\n",
              "      <td>0</td>\n",
              "    </tr>\n",
              "    <tr>\n",
              "      <th>764</th>\n",
              "      <td>2</td>\n",
              "      <td>122</td>\n",
              "      <td>70</td>\n",
              "      <td>27</td>\n",
              "      <td>0</td>\n",
              "      <td>36.8</td>\n",
              "      <td>0.340</td>\n",
              "      <td>27</td>\n",
              "      <td>0</td>\n",
              "    </tr>\n",
              "    <tr>\n",
              "      <th>765</th>\n",
              "      <td>5</td>\n",
              "      <td>121</td>\n",
              "      <td>72</td>\n",
              "      <td>23</td>\n",
              "      <td>112</td>\n",
              "      <td>26.2</td>\n",
              "      <td>0.245</td>\n",
              "      <td>30</td>\n",
              "      <td>0</td>\n",
              "    </tr>\n",
              "    <tr>\n",
              "      <th>766</th>\n",
              "      <td>1</td>\n",
              "      <td>126</td>\n",
              "      <td>60</td>\n",
              "      <td>0</td>\n",
              "      <td>0</td>\n",
              "      <td>30.1</td>\n",
              "      <td>0.349</td>\n",
              "      <td>47</td>\n",
              "      <td>1</td>\n",
              "    </tr>\n",
              "    <tr>\n",
              "      <th>767</th>\n",
              "      <td>1</td>\n",
              "      <td>93</td>\n",
              "      <td>70</td>\n",
              "      <td>31</td>\n",
              "      <td>0</td>\n",
              "      <td>30.4</td>\n",
              "      <td>0.315</td>\n",
              "      <td>23</td>\n",
              "      <td>0</td>\n",
              "    </tr>\n",
              "  </tbody>\n",
              "</table>\n",
              "<p>768 rows × 9 columns</p>\n",
              "</div>\n",
              "      <button class=\"colab-df-convert\" onclick=\"convertToInteractive('df-1f348a4d-e7ab-4f60-9829-a4c9085e953f')\"\n",
              "              title=\"Convert this dataframe to an interactive table.\"\n",
              "              style=\"display:none;\">\n",
              "        \n",
              "  <svg xmlns=\"http://www.w3.org/2000/svg\" height=\"24px\"viewBox=\"0 0 24 24\"\n",
              "       width=\"24px\">\n",
              "    <path d=\"M0 0h24v24H0V0z\" fill=\"none\"/>\n",
              "    <path d=\"M18.56 5.44l.94 2.06.94-2.06 2.06-.94-2.06-.94-.94-2.06-.94 2.06-2.06.94zm-11 1L8.5 8.5l.94-2.06 2.06-.94-2.06-.94L8.5 2.5l-.94 2.06-2.06.94zm10 10l.94 2.06.94-2.06 2.06-.94-2.06-.94-.94-2.06-.94 2.06-2.06.94z\"/><path d=\"M17.41 7.96l-1.37-1.37c-.4-.4-.92-.59-1.43-.59-.52 0-1.04.2-1.43.59L10.3 9.45l-7.72 7.72c-.78.78-.78 2.05 0 2.83L4 21.41c.39.39.9.59 1.41.59.51 0 1.02-.2 1.41-.59l7.78-7.78 2.81-2.81c.8-.78.8-2.07 0-2.86zM5.41 20L4 18.59l7.72-7.72 1.47 1.35L5.41 20z\"/>\n",
              "  </svg>\n",
              "      </button>\n",
              "      \n",
              "  <style>\n",
              "    .colab-df-container {\n",
              "      display:flex;\n",
              "      flex-wrap:wrap;\n",
              "      gap: 12px;\n",
              "    }\n",
              "\n",
              "    .colab-df-convert {\n",
              "      background-color: #E8F0FE;\n",
              "      border: none;\n",
              "      border-radius: 50%;\n",
              "      cursor: pointer;\n",
              "      display: none;\n",
              "      fill: #1967D2;\n",
              "      height: 32px;\n",
              "      padding: 0 0 0 0;\n",
              "      width: 32px;\n",
              "    }\n",
              "\n",
              "    .colab-df-convert:hover {\n",
              "      background-color: #E2EBFA;\n",
              "      box-shadow: 0px 1px 2px rgba(60, 64, 67, 0.3), 0px 1px 3px 1px rgba(60, 64, 67, 0.15);\n",
              "      fill: #174EA6;\n",
              "    }\n",
              "\n",
              "    [theme=dark] .colab-df-convert {\n",
              "      background-color: #3B4455;\n",
              "      fill: #D2E3FC;\n",
              "    }\n",
              "\n",
              "    [theme=dark] .colab-df-convert:hover {\n",
              "      background-color: #434B5C;\n",
              "      box-shadow: 0px 1px 3px 1px rgba(0, 0, 0, 0.15);\n",
              "      filter: drop-shadow(0px 1px 2px rgba(0, 0, 0, 0.3));\n",
              "      fill: #FFFFFF;\n",
              "    }\n",
              "  </style>\n",
              "\n",
              "      <script>\n",
              "        const buttonEl =\n",
              "          document.querySelector('#df-1f348a4d-e7ab-4f60-9829-a4c9085e953f button.colab-df-convert');\n",
              "        buttonEl.style.display =\n",
              "          google.colab.kernel.accessAllowed ? 'block' : 'none';\n",
              "\n",
              "        async function convertToInteractive(key) {\n",
              "          const element = document.querySelector('#df-1f348a4d-e7ab-4f60-9829-a4c9085e953f');\n",
              "          const dataTable =\n",
              "            await google.colab.kernel.invokeFunction('convertToInteractive',\n",
              "                                                     [key], {});\n",
              "          if (!dataTable) return;\n",
              "\n",
              "          const docLinkHtml = 'Like what you see? Visit the ' +\n",
              "            '<a target=\"_blank\" href=https://colab.research.google.com/notebooks/data_table.ipynb>data table notebook</a>'\n",
              "            + ' to learn more about interactive tables.';\n",
              "          element.innerHTML = '';\n",
              "          dataTable['output_type'] = 'display_data';\n",
              "          await google.colab.output.renderOutput(dataTable, element);\n",
              "          const docLink = document.createElement('div');\n",
              "          docLink.innerHTML = docLinkHtml;\n",
              "          element.appendChild(docLink);\n",
              "        }\n",
              "      </script>\n",
              "    </div>\n",
              "  </div>\n",
              "  "
            ]
          },
          "metadata": {},
          "execution_count": 27
        }
      ]
    },
    {
      "cell_type": "markdown",
      "source": [
        "**Feature Selection**"
      ],
      "metadata": {
        "id": "ZcmpgPP7X34v"
      }
    },
    {
      "cell_type": "markdown",
      "source": [
        "Here, you need to divide given columns into two types of variables dependent(or target variable) and independent variable(or feature variables)."
      ],
      "metadata": {
        "id": "3zUOfrvRX63R"
      }
    },
    {
      "cell_type": "code",
      "source": [
        "#split dataset in features and target variable\n",
        "X=df.iloc[:,:-1]\n",
        "y=df.Outcome"
      ],
      "metadata": {
        "id": "L4SD8JvcX6T1"
      },
      "execution_count": null,
      "outputs": []
    },
    {
      "cell_type": "markdown",
      "source": [
        "**Splitting Data**"
      ],
      "metadata": {
        "id": "J1q4oOYRYmvT"
      }
    },
    {
      "cell_type": "code",
      "source": [
        "#train test split\n",
        "from sklearn.model_selection import train_test_split\n",
        "X_train, X_test, y_train, y_test = train_test_split(\n",
        "     X, y, test_size=0.33, random_state=42)"
      ],
      "metadata": {
        "id": "xWDwpcsOYlnQ"
      },
      "execution_count": null,
      "outputs": []
    },
    {
      "cell_type": "markdown",
      "source": [
        "**Building Decision Tree Model**"
      ],
      "metadata": {
        "id": "4Wc4fxMUZI0j"
      }
    },
    {
      "cell_type": "markdown",
      "source": [
        "create a Decision Tree Model using Scikit-learn with default parametes"
      ],
      "metadata": {
        "id": "MO7Jy4CJZ4F4"
      }
    },
    {
      "cell_type": "code",
      "source": [
        "# Create Decision Tree classifer object\n",
        "\n",
        "# Train Decision Tree Classifer\n",
        "\n",
        "#Predict the response for test dataset\n",
        "from sklearn.tree import DecisionTreeClassifier\n"
      ],
      "metadata": {
        "id": "GbjPfDtBZDPE"
      },
      "execution_count": null,
      "outputs": []
    },
    {
      "cell_type": "code",
      "source": [
        "\n",
        "treemodel=DecisionTreeClassifier()"
      ],
      "metadata": {
        "id": "MP_KPE3KIdu2"
      },
      "execution_count": null,
      "outputs": []
    },
    {
      "cell_type": "code",
      "source": [
        "treemodel.fit(X_train,y_train)"
      ],
      "metadata": {
        "colab": {
          "base_uri": "https://localhost:8080/"
        },
        "id": "PnRWFQYqItCE",
        "outputId": "9db13d3b-0648-4111-9254-47c74d062dbb"
      },
      "execution_count": null,
      "outputs": [
        {
          "output_type": "execute_result",
          "data": {
            "text/plain": [
              "DecisionTreeClassifier()"
            ]
          },
          "metadata": {},
          "execution_count": 32
        }
      ]
    },
    {
      "cell_type": "markdown",
      "source": [
        "**Evaluating Model**"
      ],
      "metadata": {
        "id": "NR_pu5qPZ_3T"
      }
    },
    {
      "cell_type": "code",
      "source": [
        "# Model Accuracy, how often is the classifier correct?\n",
        "y_pred=treemodel.predict(X_test)\n",
        "\n"
      ],
      "metadata": {
        "id": "hLcssuZAZOdD"
      },
      "execution_count": null,
      "outputs": []
    },
    {
      "cell_type": "code",
      "source": [
        "from sklearn.metrics import accuracy_score,classification_report"
      ],
      "metadata": {
        "id": "NyPBwzayJfhU"
      },
      "execution_count": null,
      "outputs": []
    },
    {
      "cell_type": "code",
      "source": [
        "score=accuracy_score(y_pred,y_test)\n",
        "print(score)"
      ],
      "metadata": {
        "colab": {
          "base_uri": "https://localhost:8080/"
        },
        "id": "1-kSZ4JOJjhA",
        "outputId": "5990bed9-5702-46a7-836b-b5ccde9f0f6f"
      },
      "execution_count": null,
      "outputs": [
        {
          "output_type": "stream",
          "name": "stdout",
          "text": [
            "0.7165354330708661\n"
          ]
        }
      ]
    },
    {
      "cell_type": "code",
      "source": [
        "print(classification_report(y_pred,y_test))"
      ],
      "metadata": {
        "colab": {
          "base_uri": "https://localhost:8080/"
        },
        "id": "N07xupzWJno9",
        "outputId": "b7579d17-7173-48fa-f8ed-c905f5140783"
      },
      "execution_count": null,
      "outputs": [
        {
          "output_type": "stream",
          "name": "stdout",
          "text": [
            "              precision    recall  f1-score   support\n",
            "\n",
            "           0       0.76      0.80      0.78       158\n",
            "           1       0.64      0.57      0.60        96\n",
            "\n",
            "    accuracy                           0.72       254\n",
            "   macro avg       0.70      0.69      0.69       254\n",
            "weighted avg       0.71      0.72      0.71       254\n",
            "\n"
          ]
        }
      ]
    },
    {
      "cell_type": "markdown",
      "source": [
        "**Visualizing Decision Trees**"
      ],
      "metadata": {
        "id": "iMdK4m8KaYdg"
      }
    },
    {
      "cell_type": "markdown",
      "source": [
        "You can use Scikit-learn's export_graphviz function for display the tree within a Jupyter notebook. For plotting tree, you also need to install graphviz and pydotplus.\n",
        "\n"
      ],
      "metadata": {
        "id": "hVgNTFthahSX"
      }
    },
    {
      "cell_type": "code",
      "source": [
        "!pip install graphviz\n",
        "!pip install six\n",
        "!pip install pydotplus"
      ],
      "metadata": {
        "colab": {
          "base_uri": "https://localhost:8080/"
        },
        "id": "rFlb1u3PazWk",
        "outputId": "c33ba18d-3fc8-4f32-f3b2-2885f2fb8758"
      },
      "execution_count": null,
      "outputs": [
        {
          "output_type": "stream",
          "name": "stdout",
          "text": [
            "Looking in indexes: https://pypi.org/simple, https://us-python.pkg.dev/colab-wheels/public/simple/\n",
            "Requirement already satisfied: graphviz in /usr/local/lib/python3.8/dist-packages (0.10.1)\n",
            "Looking in indexes: https://pypi.org/simple, https://us-python.pkg.dev/colab-wheels/public/simple/\n",
            "Requirement already satisfied: six in /usr/local/lib/python3.8/dist-packages (1.15.0)\n",
            "Looking in indexes: https://pypi.org/simple, https://us-python.pkg.dev/colab-wheels/public/simple/\n",
            "Requirement already satisfied: pydotplus in /usr/local/lib/python3.8/dist-packages (2.0.2)\n",
            "Requirement already satisfied: pyparsing>=2.0.1 in /usr/local/lib/python3.8/dist-packages (from pydotplus) (3.0.9)\n"
          ]
        }
      ]
    },
    {
      "cell_type": "code",
      "source": [
        "import matplotlib.pyplot as plt\n",
        "\n",
        "from sklearn import tree\n",
        "plt.figure(figsize=(15,10))\n",
        "tree.plot_tree(treemodel,filled=True)\n"
      ],
      "metadata": {
        "colab": {
          "base_uri": "https://localhost:8080/",
          "height": 1000
        },
        "id": "KSleQtPUawkB",
        "outputId": "4a5dc114-5e0a-47fc-ebf1-e19df87d9131"
      },
      "execution_count": null,
      "outputs": [
        {
          "output_type": "execute_result",
          "data": {
            "text/plain": [
              "[Text(0.6145559210526316, 0.9615384615384616, 'X[1] <= 154.5\\ngini = 0.457\\nsamples = 514\\nvalue = [332, 182]'),\n",
              " Text(0.3317434210526316, 0.8846153846153846, 'X[7] <= 30.5\\ngini = 0.382\\nsamples = 432\\nvalue = [321, 111]'),\n",
              " Text(0.19210526315789472, 0.8076923076923077, 'X[1] <= 127.5\\ngini = 0.24\\nsamples = 251\\nvalue = [216, 35]'),\n",
              " Text(0.12631578947368421, 0.7307692307692307, 'X[5] <= 45.45\\ngini = 0.153\\nsamples = 203\\nvalue = [186, 17]'),\n",
              " Text(0.11578947368421053, 0.6538461538461539, 'X[0] <= 6.5\\ngini = 0.13\\nsamples = 200\\nvalue = [186, 14]'),\n",
              " Text(0.10526315789473684, 0.5769230769230769, 'X[1] <= 104.5\\ngini = 0.122\\nsamples = 199\\nvalue = [186, 13]'),\n",
              " Text(0.042105263157894736, 0.5, 'X[4] <= 156.0\\ngini = 0.037\\nsamples = 107\\nvalue = [105, 2]'),\n",
              " Text(0.021052631578947368, 0.4230769230769231, 'X[3] <= 41.0\\ngini = 0.019\\nsamples = 104\\nvalue = [103, 1]'),\n",
              " Text(0.010526315789473684, 0.34615384615384615, 'gini = 0.0\\nsamples = 97\\nvalue = [97, 0]'),\n",
              " Text(0.031578947368421054, 0.34615384615384615, 'X[4] <= 22.5\\ngini = 0.245\\nsamples = 7\\nvalue = [6, 1]'),\n",
              " Text(0.021052631578947368, 0.2692307692307692, 'gini = 0.0\\nsamples = 1\\nvalue = [0, 1]'),\n",
              " Text(0.042105263157894736, 0.2692307692307692, 'gini = 0.0\\nsamples = 6\\nvalue = [6, 0]'),\n",
              " Text(0.06315789473684211, 0.4230769230769231, 'X[6] <= 0.564\\ngini = 0.444\\nsamples = 3\\nvalue = [2, 1]'),\n",
              " Text(0.05263157894736842, 0.34615384615384615, 'gini = 0.0\\nsamples = 2\\nvalue = [2, 0]'),\n",
              " Text(0.07368421052631578, 0.34615384615384615, 'gini = 0.0\\nsamples = 1\\nvalue = [0, 1]'),\n",
              " Text(0.16842105263157894, 0.5, 'X[4] <= 49.0\\ngini = 0.211\\nsamples = 92\\nvalue = [81, 11]'),\n",
              " Text(0.12631578947368421, 0.4230769230769231, 'X[5] <= 31.3\\ngini = 0.349\\nsamples = 40\\nvalue = [31, 9]'),\n",
              " Text(0.09473684210526316, 0.34615384615384615, 'X[4] <= 24.0\\ngini = 0.198\\nsamples = 27\\nvalue = [24, 3]'),\n",
              " Text(0.08421052631578947, 0.2692307692307692, 'X[1] <= 116.5\\ngini = 0.142\\nsamples = 26\\nvalue = [24, 2]'),\n",
              " Text(0.07368421052631578, 0.19230769230769232, 'gini = 0.0\\nsamples = 20\\nvalue = [20, 0]'),\n",
              " Text(0.09473684210526316, 0.19230769230769232, 'X[6] <= 0.315\\ngini = 0.444\\nsamples = 6\\nvalue = [4, 2]'),\n",
              " Text(0.08421052631578947, 0.11538461538461539, 'gini = 0.0\\nsamples = 3\\nvalue = [3, 0]'),\n",
              " Text(0.10526315789473684, 0.11538461538461539, 'X[6] <= 0.418\\ngini = 0.444\\nsamples = 3\\nvalue = [1, 2]'),\n",
              " Text(0.09473684210526316, 0.038461538461538464, 'gini = 0.0\\nsamples = 2\\nvalue = [0, 2]'),\n",
              " Text(0.11578947368421053, 0.038461538461538464, 'gini = 0.0\\nsamples = 1\\nvalue = [1, 0]'),\n",
              " Text(0.10526315789473684, 0.2692307692307692, 'gini = 0.0\\nsamples = 1\\nvalue = [0, 1]'),\n",
              " Text(0.15789473684210525, 0.34615384615384615, 'X[1] <= 111.5\\ngini = 0.497\\nsamples = 13\\nvalue = [7, 6]'),\n",
              " Text(0.14736842105263157, 0.2692307692307692, 'gini = 0.0\\nsamples = 3\\nvalue = [3, 0]'),\n",
              " Text(0.16842105263157894, 0.2692307692307692, 'X[2] <= 72.0\\ngini = 0.48\\nsamples = 10\\nvalue = [4, 6]'),\n",
              " Text(0.15789473684210525, 0.19230769230769232, 'X[2] <= 65.0\\ngini = 0.444\\nsamples = 6\\nvalue = [4, 2]'),\n",
              " Text(0.14736842105263157, 0.11538461538461539, 'X[5] <= 32.6\\ngini = 0.444\\nsamples = 3\\nvalue = [1, 2]'),\n",
              " Text(0.1368421052631579, 0.038461538461538464, 'gini = 0.0\\nsamples = 1\\nvalue = [1, 0]'),\n",
              " Text(0.15789473684210525, 0.038461538461538464, 'gini = 0.0\\nsamples = 2\\nvalue = [0, 2]'),\n",
              " Text(0.16842105263157894, 0.11538461538461539, 'gini = 0.0\\nsamples = 3\\nvalue = [3, 0]'),\n",
              " Text(0.17894736842105263, 0.19230769230769232, 'gini = 0.0\\nsamples = 4\\nvalue = [0, 4]'),\n",
              " Text(0.21052631578947367, 0.4230769230769231, 'X[3] <= 40.5\\ngini = 0.074\\nsamples = 52\\nvalue = [50, 2]'),\n",
              " Text(0.2, 0.34615384615384615, 'gini = 0.0\\nsamples = 43\\nvalue = [43, 0]'),\n",
              " Text(0.22105263157894736, 0.34615384615384615, 'X[1] <= 110.5\\ngini = 0.346\\nsamples = 9\\nvalue = [7, 2]'),\n",
              " Text(0.21052631578947367, 0.2692307692307692, 'X[7] <= 23.5\\ngini = 0.444\\nsamples = 3\\nvalue = [1, 2]'),\n",
              " Text(0.2, 0.19230769230769232, 'gini = 0.0\\nsamples = 1\\nvalue = [1, 0]'),\n",
              " Text(0.22105263157894736, 0.19230769230769232, 'gini = 0.0\\nsamples = 2\\nvalue = [0, 2]'),\n",
              " Text(0.23157894736842105, 0.2692307692307692, 'gini = 0.0\\nsamples = 6\\nvalue = [6, 0]'),\n",
              " Text(0.12631578947368421, 0.5769230769230769, 'gini = 0.0\\nsamples = 1\\nvalue = [0, 1]'),\n",
              " Text(0.1368421052631579, 0.6538461538461539, 'gini = 0.0\\nsamples = 3\\nvalue = [0, 3]'),\n",
              " Text(0.2578947368421053, 0.7307692307692307, 'X[2] <= 55.0\\ngini = 0.469\\nsamples = 48\\nvalue = [30, 18]'),\n",
              " Text(0.24736842105263157, 0.6538461538461539, 'gini = 0.0\\nsamples = 5\\nvalue = [0, 5]'),\n",
              " Text(0.26842105263157895, 0.6538461538461539, 'X[5] <= 30.3\\ngini = 0.422\\nsamples = 43\\nvalue = [30, 13]'),\n",
              " Text(0.23157894736842105, 0.5769230769230769, 'X[3] <= 27.5\\ngini = 0.117\\nsamples = 16\\nvalue = [15, 1]'),\n",
              " Text(0.22105263157894736, 0.5, 'gini = 0.0\\nsamples = 13\\nvalue = [13, 0]'),\n",
              " Text(0.24210526315789474, 0.5, 'X[3] <= 29.5\\ngini = 0.444\\nsamples = 3\\nvalue = [2, 1]'),\n",
              " Text(0.23157894736842105, 0.4230769230769231, 'gini = 0.0\\nsamples = 1\\nvalue = [0, 1]'),\n",
              " Text(0.25263157894736843, 0.4230769230769231, 'gini = 0.0\\nsamples = 2\\nvalue = [2, 0]'),\n",
              " Text(0.30526315789473685, 0.5769230769230769, 'X[4] <= 197.0\\ngini = 0.494\\nsamples = 27\\nvalue = [15, 12]'),\n",
              " Text(0.29473684210526313, 0.5, 'X[4] <= 125.0\\ngini = 0.496\\nsamples = 22\\nvalue = [10, 12]'),\n",
              " Text(0.2736842105263158, 0.4230769230769231, 'X[2] <= 85.0\\ngini = 0.459\\nsamples = 14\\nvalue = [9, 5]'),\n",
              " Text(0.2631578947368421, 0.34615384615384615, 'X[6] <= 1.141\\ngini = 0.375\\nsamples = 12\\nvalue = [9, 3]'),\n",
              " Text(0.25263157894736843, 0.2692307692307692, 'X[6] <= 0.363\\ngini = 0.298\\nsamples = 11\\nvalue = [9, 2]'),\n",
              " Text(0.24210526315789474, 0.19230769230769232, 'X[0] <= 0.5\\ngini = 0.444\\nsamples = 6\\nvalue = [4, 2]'),\n",
              " Text(0.23157894736842105, 0.11538461538461539, 'X[5] <= 33.75\\ngini = 0.444\\nsamples = 3\\nvalue = [1, 2]'),\n",
              " Text(0.22105263157894736, 0.038461538461538464, 'gini = 0.0\\nsamples = 1\\nvalue = [1, 0]'),\n",
              " Text(0.24210526315789474, 0.038461538461538464, 'gini = 0.0\\nsamples = 2\\nvalue = [0, 2]'),\n",
              " Text(0.25263157894736843, 0.11538461538461539, 'gini = 0.0\\nsamples = 3\\nvalue = [3, 0]'),\n",
              " Text(0.2631578947368421, 0.19230769230769232, 'gini = 0.0\\nsamples = 5\\nvalue = [5, 0]'),\n",
              " Text(0.2736842105263158, 0.2692307692307692, 'gini = 0.0\\nsamples = 1\\nvalue = [0, 1]'),\n",
              " Text(0.28421052631578947, 0.34615384615384615, 'gini = 0.0\\nsamples = 2\\nvalue = [0, 2]'),\n",
              " Text(0.3157894736842105, 0.4230769230769231, 'X[1] <= 149.0\\ngini = 0.219\\nsamples = 8\\nvalue = [1, 7]'),\n",
              " Text(0.30526315789473685, 0.34615384615384615, 'gini = 0.0\\nsamples = 7\\nvalue = [0, 7]'),\n",
              " Text(0.3263157894736842, 0.34615384615384615, 'gini = 0.0\\nsamples = 1\\nvalue = [1, 0]'),\n",
              " Text(0.3157894736842105, 0.5, 'gini = 0.0\\nsamples = 5\\nvalue = [5, 0]'),\n",
              " Text(0.47138157894736843, 0.8076923076923077, 'X[5] <= 26.95\\ngini = 0.487\\nsamples = 181\\nvalue = [105, 76]'),\n",
              " Text(0.35789473684210527, 0.7307692307692307, 'X[5] <= 9.8\\ngini = 0.105\\nsamples = 36\\nvalue = [34, 2]'),\n",
              " Text(0.3368421052631579, 0.6538461538461539, 'X[1] <= 130.5\\ngini = 0.5\\nsamples = 2\\nvalue = [1, 1]'),\n",
              " Text(0.3263157894736842, 0.5769230769230769, 'gini = 0.0\\nsamples = 1\\nvalue = [0, 1]'),\n",
              " Text(0.3473684210526316, 0.5769230769230769, 'gini = 0.0\\nsamples = 1\\nvalue = [1, 0]'),\n",
              " Text(0.37894736842105264, 0.6538461538461539, 'X[1] <= 133.0\\ngini = 0.057\\nsamples = 34\\nvalue = [33, 1]'),\n",
              " Text(0.3684210526315789, 0.5769230769230769, 'gini = 0.0\\nsamples = 29\\nvalue = [29, 0]'),\n",
              " Text(0.3894736842105263, 0.5769230769230769, 'X[7] <= 57.5\\ngini = 0.32\\nsamples = 5\\nvalue = [4, 1]'),\n",
              " Text(0.37894736842105264, 0.5, 'gini = 0.0\\nsamples = 3\\nvalue = [3, 0]'),\n",
              " Text(0.4, 0.5, 'X[0] <= 6.5\\ngini = 0.5\\nsamples = 2\\nvalue = [1, 1]'),\n",
              " Text(0.3894736842105263, 0.4230769230769231, 'gini = 0.0\\nsamples = 1\\nvalue = [0, 1]'),\n",
              " Text(0.4105263157894737, 0.4230769230769231, 'gini = 0.0\\nsamples = 1\\nvalue = [1, 0]'),\n",
              " Text(0.5848684210526316, 0.7307692307692307, 'X[1] <= 94.5\\ngini = 0.5\\nsamples = 145\\nvalue = [71, 74]'),\n",
              " Text(0.42105263157894735, 0.6538461538461539, 'X[1] <= 28.5\\ngini = 0.278\\nsamples = 24\\nvalue = [20, 4]'),\n",
              " Text(0.4105263157894737, 0.5769230769230769, 'gini = 0.0\\nsamples = 2\\nvalue = [0, 2]'),\n",
              " Text(0.43157894736842106, 0.5769230769230769, 'X[0] <= 9.5\\ngini = 0.165\\nsamples = 22\\nvalue = [20, 2]'),\n",
              " Text(0.42105263157894735, 0.5, 'gini = 0.0\\nsamples = 16\\nvalue = [16, 0]'),\n",
              " Text(0.4421052631578947, 0.5, 'X[1] <= 80.0\\ngini = 0.444\\nsamples = 6\\nvalue = [4, 2]'),\n",
              " Text(0.43157894736842106, 0.4230769230769231, 'gini = 0.0\\nsamples = 3\\nvalue = [3, 0]'),\n",
              " Text(0.45263157894736844, 0.4230769230769231, 'X[3] <= 36.0\\ngini = 0.444\\nsamples = 3\\nvalue = [1, 2]'),\n",
              " Text(0.4421052631578947, 0.34615384615384615, 'gini = 0.0\\nsamples = 2\\nvalue = [0, 2]'),\n",
              " Text(0.4631578947368421, 0.34615384615384615, 'gini = 0.0\\nsamples = 1\\nvalue = [1, 0]'),\n",
              " Text(0.7486842105263158, 0.6538461538461539, 'X[6] <= 0.528\\ngini = 0.488\\nsamples = 121\\nvalue = [51, 70]'),\n",
              " Text(0.6657894736842105, 0.5769230769230769, 'X[2] <= 83.0\\ngini = 0.5\\nsamples = 80\\nvalue = [40, 40]'),\n",
              " Text(0.5736842105263158, 0.5, 'X[3] <= 26.5\\ngini = 0.488\\nsamples = 59\\nvalue = [25, 34]'),\n",
              " Text(0.5210526315789473, 0.4230769230769231, 'X[1] <= 127.0\\ngini = 0.415\\nsamples = 34\\nvalue = [10, 24]'),\n",
              " Text(0.4842105263157895, 0.34615384615384615, 'X[0] <= 8.5\\ngini = 0.245\\nsamples = 21\\nvalue = [3, 18]'),\n",
              " Text(0.4631578947368421, 0.2692307692307692, 'X[4] <= 88.0\\ngini = 0.117\\nsamples = 16\\nvalue = [1, 15]'),\n",
              " Text(0.45263157894736844, 0.19230769230769232, 'gini = 0.0\\nsamples = 15\\nvalue = [0, 15]'),\n",
              " Text(0.47368421052631576, 0.19230769230769232, 'gini = 0.0\\nsamples = 1\\nvalue = [1, 0]'),\n",
              " Text(0.5052631578947369, 0.2692307692307692, 'X[3] <= 12.5\\ngini = 0.48\\nsamples = 5\\nvalue = [2, 3]'),\n",
              " Text(0.49473684210526314, 0.19230769230769232, 'X[6] <= 0.265\\ngini = 0.444\\nsamples = 3\\nvalue = [2, 1]'),\n",
              " Text(0.4842105263157895, 0.11538461538461539, 'gini = 0.0\\nsamples = 2\\nvalue = [2, 0]'),\n",
              " Text(0.5052631578947369, 0.11538461538461539, 'gini = 0.0\\nsamples = 1\\nvalue = [0, 1]'),\n",
              " Text(0.5157894736842106, 0.19230769230769232, 'gini = 0.0\\nsamples = 2\\nvalue = [0, 2]'),\n",
              " Text(0.5578947368421052, 0.34615384615384615, 'X[1] <= 143.5\\ngini = 0.497\\nsamples = 13\\nvalue = [7, 6]'),\n",
              " Text(0.5473684210526316, 0.2692307692307692, 'X[0] <= 3.5\\ngini = 0.346\\nsamples = 9\\nvalue = [7, 2]'),\n",
              " Text(0.5368421052631579, 0.19230769230769232, 'X[1] <= 137.0\\ngini = 0.444\\nsamples = 3\\nvalue = [1, 2]'),\n",
              " Text(0.5263157894736842, 0.11538461538461539, 'gini = 0.0\\nsamples = 2\\nvalue = [0, 2]'),\n",
              " Text(0.5473684210526316, 0.11538461538461539, 'gini = 0.0\\nsamples = 1\\nvalue = [1, 0]'),\n",
              " Text(0.5578947368421052, 0.19230769230769232, 'gini = 0.0\\nsamples = 6\\nvalue = [6, 0]'),\n",
              " Text(0.5684210526315789, 0.2692307692307692, 'gini = 0.0\\nsamples = 4\\nvalue = [0, 4]'),\n",
              " Text(0.6263157894736842, 0.4230769230769231, 'X[5] <= 33.4\\ngini = 0.48\\nsamples = 25\\nvalue = [15, 10]'),\n",
              " Text(0.6, 0.34615384615384615, 'X[5] <= 29.4\\ngini = 0.198\\nsamples = 9\\nvalue = [8, 1]'),\n",
              " Text(0.5894736842105263, 0.2692307692307692, 'X[3] <= 30.0\\ngini = 0.5\\nsamples = 2\\nvalue = [1, 1]'),\n",
              " Text(0.5789473684210527, 0.19230769230769232, 'gini = 0.0\\nsamples = 1\\nvalue = [0, 1]'),\n",
              " Text(0.6, 0.19230769230769232, 'gini = 0.0\\nsamples = 1\\nvalue = [1, 0]'),\n",
              " Text(0.6105263157894737, 0.2692307692307692, 'gini = 0.0\\nsamples = 7\\nvalue = [7, 0]'),\n",
              " Text(0.6526315789473685, 0.34615384615384615, 'X[1] <= 110.0\\ngini = 0.492\\nsamples = 16\\nvalue = [7, 9]'),\n",
              " Text(0.631578947368421, 0.2692307692307692, 'X[6] <= 0.315\\ngini = 0.278\\nsamples = 6\\nvalue = [5, 1]'),\n",
              " Text(0.6210526315789474, 0.19230769230769232, 'gini = 0.0\\nsamples = 5\\nvalue = [5, 0]'),\n",
              " Text(0.6421052631578947, 0.19230769230769232, 'gini = 0.0\\nsamples = 1\\nvalue = [0, 1]'),\n",
              " Text(0.6736842105263158, 0.2692307692307692, 'X[4] <= 219.0\\ngini = 0.32\\nsamples = 10\\nvalue = [2, 8]'),\n",
              " Text(0.6631578947368421, 0.19230769230769232, 'gini = 0.0\\nsamples = 8\\nvalue = [0, 8]'),\n",
              " Text(0.6842105263157895, 0.19230769230769232, 'gini = 0.0\\nsamples = 2\\nvalue = [2, 0]'),\n",
              " Text(0.7578947368421053, 0.5, 'X[4] <= 124.0\\ngini = 0.408\\nsamples = 21\\nvalue = [15, 6]'),\n",
              " Text(0.7368421052631579, 0.4230769230769231, 'X[5] <= 41.2\\ngini = 0.219\\nsamples = 16\\nvalue = [14, 2]'),\n",
              " Text(0.7263157894736842, 0.34615384615384615, 'X[7] <= 35.5\\ngini = 0.124\\nsamples = 15\\nvalue = [14, 1]'),\n",
              " Text(0.7157894736842105, 0.2692307692307692, 'X[6] <= 0.288\\ngini = 0.5\\nsamples = 2\\nvalue = [1, 1]'),\n",
              " Text(0.7052631578947368, 0.19230769230769232, 'gini = 0.0\\nsamples = 1\\nvalue = [0, 1]'),\n",
              " Text(0.7263157894736842, 0.19230769230769232, 'gini = 0.0\\nsamples = 1\\nvalue = [1, 0]'),\n",
              " Text(0.7368421052631579, 0.2692307692307692, 'gini = 0.0\\nsamples = 13\\nvalue = [13, 0]'),\n",
              " Text(0.7473684210526316, 0.34615384615384615, 'gini = 0.0\\nsamples = 1\\nvalue = [0, 1]'),\n",
              " Text(0.7789473684210526, 0.4230769230769231, 'X[3] <= 19.5\\ngini = 0.32\\nsamples = 5\\nvalue = [1, 4]'),\n",
              " Text(0.7684210526315789, 0.34615384615384615, 'gini = 0.0\\nsamples = 1\\nvalue = [1, 0]'),\n",
              " Text(0.7894736842105263, 0.34615384615384615, 'gini = 0.0\\nsamples = 4\\nvalue = [0, 4]'),\n",
              " Text(0.8315789473684211, 0.5769230769230769, 'X[6] <= 0.676\\ngini = 0.393\\nsamples = 41\\nvalue = [11, 30]'),\n",
              " Text(0.8210526315789474, 0.5, 'gini = 0.0\\nsamples = 14\\nvalue = [0, 14]'),\n",
              " Text(0.8421052631578947, 0.5, 'X[1] <= 141.0\\ngini = 0.483\\nsamples = 27\\nvalue = [11, 16]'),\n",
              " Text(0.8210526315789474, 0.4230769230769231, 'X[7] <= 31.5\\ngini = 0.434\\nsamples = 22\\nvalue = [7, 15]'),\n",
              " Text(0.8105263157894737, 0.34615384615384615, 'gini = 0.0\\nsamples = 2\\nvalue = [2, 0]'),\n",
              " Text(0.8315789473684211, 0.34615384615384615, 'X[2] <= 81.0\\ngini = 0.375\\nsamples = 20\\nvalue = [5, 15]'),\n",
              " Text(0.8210526315789474, 0.2692307692307692, 'X[4] <= 120.5\\ngini = 0.486\\nsamples = 12\\nvalue = [5, 7]'),\n",
              " Text(0.8, 0.19230769230769232, 'X[0] <= 5.5\\ngini = 0.444\\nsamples = 6\\nvalue = [4, 2]'),\n",
              " Text(0.7894736842105263, 0.11538461538461539, 'gini = 0.0\\nsamples = 3\\nvalue = [3, 0]'),\n",
              " Text(0.8105263157894737, 0.11538461538461539, 'X[7] <= 45.5\\ngini = 0.444\\nsamples = 3\\nvalue = [1, 2]'),\n",
              " Text(0.8, 0.038461538461538464, 'gini = 0.0\\nsamples = 2\\nvalue = [0, 2]'),\n",
              " Text(0.8210526315789474, 0.038461538461538464, 'gini = 0.0\\nsamples = 1\\nvalue = [1, 0]'),\n",
              " Text(0.8421052631578947, 0.19230769230769232, 'X[3] <= 42.5\\ngini = 0.278\\nsamples = 6\\nvalue = [1, 5]'),\n",
              " Text(0.8315789473684211, 0.11538461538461539, 'gini = 0.0\\nsamples = 5\\nvalue = [0, 5]'),\n",
              " Text(0.8526315789473684, 0.11538461538461539, 'gini = 0.0\\nsamples = 1\\nvalue = [1, 0]'),\n",
              " Text(0.8421052631578947, 0.2692307692307692, 'gini = 0.0\\nsamples = 8\\nvalue = [0, 8]'),\n",
              " Text(0.8631578947368421, 0.4230769230769231, 'X[3] <= 42.5\\ngini = 0.32\\nsamples = 5\\nvalue = [4, 1]'),\n",
              " Text(0.8526315789473684, 0.34615384615384615, 'gini = 0.0\\nsamples = 4\\nvalue = [4, 0]'),\n",
              " Text(0.8736842105263158, 0.34615384615384615, 'gini = 0.0\\nsamples = 1\\nvalue = [0, 1]'),\n",
              " Text(0.8973684210526316, 0.8846153846153846, 'X[5] <= 28.7\\ngini = 0.232\\nsamples = 82\\nvalue = [11, 71]'),\n",
              " Text(0.8421052631578947, 0.8076923076923077, 'X[5] <= 25.35\\ngini = 0.486\\nsamples = 12\\nvalue = [5, 7]'),\n",
              " Text(0.8315789473684211, 0.7307692307692307, 'gini = 0.0\\nsamples = 4\\nvalue = [0, 4]'),\n",
              " Text(0.8526315789473684, 0.7307692307692307, 'X[6] <= 0.368\\ngini = 0.469\\nsamples = 8\\nvalue = [5, 3]'),\n",
              " Text(0.8421052631578947, 0.6538461538461539, 'gini = 0.0\\nsamples = 3\\nvalue = [3, 0]'),\n",
              " Text(0.8631578947368421, 0.6538461538461539, 'X[1] <= 179.5\\ngini = 0.48\\nsamples = 5\\nvalue = [2, 3]'),\n",
              " Text(0.8526315789473684, 0.5769230769230769, 'gini = 0.0\\nsamples = 2\\nvalue = [0, 2]'),\n",
              " Text(0.8736842105263158, 0.5769230769230769, 'X[1] <= 195.5\\ngini = 0.444\\nsamples = 3\\nvalue = [2, 1]'),\n",
              " Text(0.8631578947368421, 0.5, 'gini = 0.0\\nsamples = 2\\nvalue = [2, 0]'),\n",
              " Text(0.8842105263157894, 0.5, 'gini = 0.0\\nsamples = 1\\nvalue = [0, 1]'),\n",
              " Text(0.9526315789473684, 0.8076923076923077, 'X[6] <= 1.428\\ngini = 0.157\\nsamples = 70\\nvalue = [6, 64]'),\n",
              " Text(0.9263157894736842, 0.7307692307692307, 'X[6] <= 0.135\\ngini = 0.116\\nsamples = 65\\nvalue = [4, 61]'),\n",
              " Text(0.9052631578947369, 0.6538461538461539, 'X[5] <= 38.1\\ngini = 0.5\\nsamples = 2\\nvalue = [1, 1]'),\n",
              " Text(0.8947368421052632, 0.5769230769230769, 'gini = 0.0\\nsamples = 1\\nvalue = [0, 1]'),\n",
              " Text(0.9157894736842105, 0.5769230769230769, 'gini = 0.0\\nsamples = 1\\nvalue = [1, 0]'),\n",
              " Text(0.9473684210526315, 0.6538461538461539, 'X[2] <= 69.0\\ngini = 0.091\\nsamples = 63\\nvalue = [3, 60]'),\n",
              " Text(0.9368421052631579, 0.5769230769230769, 'X[3] <= 26.5\\ngini = 0.291\\nsamples = 17\\nvalue = [3, 14]'),\n",
              " Text(0.9263157894736842, 0.5, 'X[2] <= 63.0\\ngini = 0.49\\nsamples = 7\\nvalue = [3, 4]'),\n",
              " Text(0.9157894736842105, 0.4230769230769231, 'gini = 0.0\\nsamples = 4\\nvalue = [0, 4]'),\n",
              " Text(0.9368421052631579, 0.4230769230769231, 'gini = 0.0\\nsamples = 3\\nvalue = [3, 0]'),\n",
              " Text(0.9473684210526315, 0.5, 'gini = 0.0\\nsamples = 10\\nvalue = [0, 10]'),\n",
              " Text(0.9578947368421052, 0.5769230769230769, 'gini = 0.0\\nsamples = 46\\nvalue = [0, 46]'),\n",
              " Text(0.9789473684210527, 0.7307692307692307, 'X[7] <= 28.0\\ngini = 0.48\\nsamples = 5\\nvalue = [2, 3]'),\n",
              " Text(0.968421052631579, 0.6538461538461539, 'gini = 0.0\\nsamples = 3\\nvalue = [0, 3]'),\n",
              " Text(0.9894736842105263, 0.6538461538461539, 'gini = 0.0\\nsamples = 2\\nvalue = [2, 0]')]"
            ]
          },
          "metadata": {},
          "execution_count": 37
        },
        {
          "output_type": "display_data",
          "data": {
            "text/plain": [
              "<Figure size 1080x720 with 1 Axes>"
            ],
            "image/png": "[encoded data removed]"
          },
          "metadata": {
            "needs_background": "light"
          }
        }
      ]
    },
    {
      "cell_type": "markdown",
      "source": [
        "**Optimizing Decision Tree Performance**"
      ],
      "metadata": {
        "id": "s1OH20NlarKE"
      }
    },
    {
      "cell_type": "markdown",
      "source": [
        "Try out different parameter values for optimizing the accuracy on max_deapth ,criterion etc"
      ],
      "metadata": {
        "id": "xWIgSLO1ePhj"
      }
    },
    {
      "cell_type": "code",
      "source": [
        "# Create Decision Tree classifer object\n",
        "\n",
        "# Train Decision Tree Classifer\n",
        "\n",
        "#Predict the response for test dataset\n",
        "\n",
        "# Model Accuracy, how often is the classifier correct?"
      ],
      "metadata": {
        "id": "aGhNVhLdaVMb"
      },
      "execution_count": null,
      "outputs": []
    },
    {
      "cell_type": "code",
      "source": [
        "from sklearn.tree import DecisionTreeClassifier"
      ],
      "metadata": {
        "id": "Jc50YcMnJtD7"
      },
      "execution_count": null,
      "outputs": []
    },
    {
      "cell_type": "code",
      "source": [
        "treemodel1=DecisionTreeClassifier(max_depth=2,criterion='entropy')"
      ],
      "metadata": {
        "id": "b_gnrBeUJ7Ui"
      },
      "execution_count": null,
      "outputs": []
    },
    {
      "cell_type": "code",
      "source": [
        "treemodel1.fit(X_train,y_train)"
      ],
      "metadata": {
        "colab": {
          "base_uri": "https://localhost:8080/"
        },
        "id": "4ujLoqFkKG6Y",
        "outputId": "adeaa691-6d4a-415a-8322-1238f1656ec2"
      },
      "execution_count": null,
      "outputs": [
        {
          "output_type": "execute_result",
          "data": {
            "text/plain": [
              "DecisionTreeClassifier(criterion='entropy', max_depth=2)"
            ]
          },
          "metadata": {},
          "execution_count": 40
        }
      ]
    },
    {
      "cell_type": "code",
      "source": [
        "y_pred1=treemodel1.predict(X_test)"
      ],
      "metadata": {
        "id": "zTk_GY7hKQfd"
      },
      "execution_count": null,
      "outputs": []
    },
    {
      "cell_type": "code",
      "source": [
        "from sklearn.metrics import accuracy_score,classification_report"
      ],
      "metadata": {
        "id": "83GAP3BGKQ2j"
      },
      "execution_count": null,
      "outputs": []
    },
    {
      "cell_type": "code",
      "source": [
        "score1=accuracy_score(y_pred1,y_test)\n",
        "print(score1)"
      ],
      "metadata": {
        "colab": {
          "base_uri": "https://localhost:8080/"
        },
        "id": "8AwFtSZfKt_B",
        "outputId": "c130f824-054c-4886-e2bc-c3d12c1fc44a"
      },
      "execution_count": null,
      "outputs": [
        {
          "output_type": "stream",
          "name": "stdout",
          "text": [
            "0.7165354330708661\n"
          ]
        }
      ]
    },
    {
      "cell_type": "markdown",
      "source": [
        "**Visualizing Decision Trees**"
      ],
      "metadata": {
        "id": "ZBEG_Rk_esQa"
      }
    },
    {
      "cell_type": "code",
      "source": [
        "from sklearn import tree\n",
        "plt.figure(figsize=(15,10))\n",
        "tree.plot_tree(treemodel1,filled=True)"
      ],
      "metadata": {
        "id": "6gnevbMNesAL",
        "colab": {
          "base_uri": "https://localhost:8080/",
          "height": 702
        },
        "outputId": "612f14ee-1a4d-4000-f192-171c5b86aeb5"
      },
      "execution_count": null,
      "outputs": [
        {
          "output_type": "execute_result",
          "data": {
            "text/plain": [
              "[Text(0.5, 0.8333333333333334, 'X[1] <= 154.5\\nentropy = 0.938\\nsamples = 514\\nvalue = [332, 182]'),\n",
              " Text(0.25, 0.5, 'X[5] <= 26.35\\nentropy = 0.822\\nsamples = 432\\nvalue = [321, 111]'),\n",
              " Text(0.125, 0.16666666666666666, 'entropy = 0.23\\nsamples = 107\\nvalue = [103, 4]'),\n",
              " Text(0.375, 0.16666666666666666, 'entropy = 0.914\\nsamples = 325\\nvalue = [218, 107]'),\n",
              " Text(0.75, 0.5, 'X[5] <= 28.7\\nentropy = 0.569\\nsamples = 82\\nvalue = [11, 71]'),\n",
              " Text(0.625, 0.16666666666666666, 'entropy = 0.98\\nsamples = 12\\nvalue = [5, 7]'),\n",
              " Text(0.875, 0.16666666666666666, 'entropy = 0.422\\nsamples = 70\\nvalue = [6, 64]')]"
            ]
          },
          "metadata": {},
          "execution_count": 44
        },
        {
          "output_type": "display_data",
          "data": {
            "text/plain": [
              "<Figure size 1080x720 with 1 Axes>"
            ],
            "image/png": "[encoded data removed]"
          },
          "metadata": {
            "needs_background": "light"
          }
        }
      ]
    },
    {
      "cell_type": "markdown",
      "source": [
        "**Implement Random Forest**"
      ],
      "metadata": {
        "id": "qJt1QpdAgJD2"
      }
    },
    {
      "cell_type": "code",
      "source": [
        "from sklearn.ensemble import RandomForestClassifier\n",
        "from sklearn.model_selection import train_test_split\n",
        "X_train,X_test,y_train,y_test=train_test_split(X,y,test_size=0.33,random_state=50)"
      ],
      "metadata": {
        "id": "9XYVQCDhgTJP"
      },
      "execution_count": null,
      "outputs": []
    },
    {
      "cell_type": "code",
      "source": [
        "# Create RandomForest Tree classifer object\n",
        "\n",
        "# Train RandomForest Tree Classifer\n",
        "\n",
        "#Predict the response for test dataset\n",
        "\n",
        "# Model Accuracy, how often is the classifier correct?"
      ],
      "metadata": {
        "id": "tOWKjheCgRUt"
      },
      "execution_count": null,
      "outputs": []
    },
    {
      "cell_type": "code",
      "source": [
        "# Create RandomForest Tree classifer object\n",
        "clf=RandomForestClassifier(random_state=50,n_estimators=100,max_depth=3)"
      ],
      "metadata": {
        "id": "ZLGojCTaAhOW"
      },
      "execution_count": null,
      "outputs": []
    },
    {
      "cell_type": "code",
      "source": [
        "# Train RandomForest Tree Classifer\n",
        "clf.fit(X_train,y_train)"
      ],
      "metadata": {
        "colab": {
          "base_uri": "https://localhost:8080/"
        },
        "id": "RstJQV8JAl5D",
        "outputId": "78a9083c-f297-4840-aa32-4cd15413c51c"
      },
      "execution_count": null,
      "outputs": [
        {
          "output_type": "execute_result",
          "data": {
            "text/plain": [
              "RandomForestClassifier(max_depth=3, random_state=50)"
            ]
          },
          "metadata": {},
          "execution_count": 48
        }
      ]
    },
    {
      "cell_type": "code",
      "source": [
        "from sklearn.metrics import accuracy_score\n",
        "accuracy_score(y_test,y_pred)"
      ],
      "metadata": {
        "colab": {
          "base_uri": "https://localhost:8080/"
        },
        "id": "SeKX8-u8AohT",
        "outputId": "a135d2c2-6495-4eb6-b15a-731877512a16"
      },
      "execution_count": null,
      "outputs": [
        {
          "output_type": "execute_result",
          "data": {
            "text/plain": [
              "0.5196850393700787"
            ]
          },
          "metadata": {},
          "execution_count": 49
        }
      ]
    },
    {
      "cell_type": "markdown",
      "source": [
        "If the model overfitting try out different way to fix it!!"
      ],
      "metadata": {
        "id": "N-CNQnHmgd1w"
      }
    },
    {
      "cell_type": "code",
      "source": [
        "\n",
        "y_pred=clf.predict(X_train)\n",
        "     \n",
        "\n",
        "from sklearn.metrics import accuracy_score\n",
        "accuracy_score(y_train,y_pred)"
      ],
      "metadata": {
        "id": "BshHQbblgx5Q",
        "colab": {
          "base_uri": "https://localhost:8080/"
        },
        "outputId": "f92f4ad3-c30b-4ffd-f802-81243f021acd"
      },
      "execution_count": null,
      "outputs": [
        {
          "output_type": "execute_result",
          "data": {
            "text/plain": [
              "0.8035019455252919"
            ]
          },
          "metadata": {},
          "execution_count": 51
        }
      ]
    },
    {
      "cell_type": "code",
      "source": [
        "pd.Series(clf.feature_importances_,index=df.iloc[:,0:8].columns).sort_values(ascending=False)"
      ],
      "metadata": {
        "id": "uLS1Sla9gxrd",
        "colab": {
          "base_uri": "https://localhost:8080/"
        },
        "outputId": "71f319e2-7da3-423f-aeff-3f11d289677b"
      },
      "execution_count": null,
      "outputs": [
        {
          "output_type": "execute_result",
          "data": {
            "text/plain": [
              "Glucose                     0.406518\n",
              "BMI                         0.180192\n",
              "Age                         0.172298\n",
              "DiabetesPedigreeFunction    0.072514\n",
              "Pregnancies                 0.061439\n",
              "Insulin                     0.043734\n",
              "BloodPressure               0.038390\n",
              "SkinThickness               0.024915\n",
              "dtype: float64"
            ]
          },
          "metadata": {},
          "execution_count": 52
        }
      ]
    },
    {
      "cell_type": "code",
      "source": [
        "\n",
        "clf=RandomForestClassifier(random_state=50,n_estimators=30,max_depth=2)\n",
        "clf.fit(X_train,y_train)\n",
        "y_pred=clf.predict(X_test)\n",
        "     \n",
        "\n",
        "accuracy_score(y_test,y_pred)"
      ],
      "metadata": {
        "colab": {
          "base_uri": "https://localhost:8080/"
        },
        "id": "aefu3yQ2BwBe",
        "outputId": "2698b377-203b-4eb8-8762-7f1001801910"
      },
      "execution_count": null,
      "outputs": [
        {
          "output_type": "execute_result",
          "data": {
            "text/plain": [
              "0.7677165354330708"
            ]
          },
          "metadata": {},
          "execution_count": 53
        }
      ]
    },
    {
      "cell_type": "code",
      "source": [
        "y_pred=clf.predict(X_train)\n",
        "     \n",
        "\n",
        "accuracy_score(y_train,y_pred)"
      ],
      "metadata": {
        "colab": {
          "base_uri": "https://localhost:8080/"
        },
        "id": "qmMXlmNGB3Pd",
        "outputId": "34c6c1b2-1676-41af-896a-81d3bdfcec48"
      },
      "execution_count": null,
      "outputs": [
        {
          "output_type": "execute_result",
          "data": {
            "text/plain": [
              "0.7859922178988327"
            ]
          },
          "metadata": {},
          "execution_count": 55
        }
      ]
    },
    {
      "cell_type": "markdown",
      "source": [
        "### All the best!!! I hope you will Enjoy the Task!"
      ],
      "metadata": {
        "id": "Leh83E_MgmTU"
      }
    }
  ]
}
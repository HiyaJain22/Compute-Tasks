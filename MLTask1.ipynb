{
  "cells": [
    {
      "cell_type": "markdown",
      "metadata": {
        "id": "view-in-github",
        "colab_type": "text"
      },
      "source": [
        "<a href=\"https://colab.research.google.com/github/HiyaJain22/Compute-Tasks/blob/main/MLTask1.ipynb\" target=\"_parent\"><img src=\"https://colab.research.google.com/assets/colab-badge.svg\" alt=\"Open In Colab\"/></a>"
      ]
    },
    {
      "cell_type": "code",
      "execution_count": null,
      "metadata": {
        "colab": {
          "base_uri": "https://localhost:8080/"
        },
        "id": "KZ2KwJ-dPhMK",
        "outputId": "a733a1dd-a9f2-4a2d-f6ab-b14dcc8f9a16"
      },
      "outputs": [
        {
          "name": "stdout",
          "output_type": "stream",
          "text": [
            "Enter the no of rows6\n",
            "\n",
            "1 \n",
            "2 2 \n",
            "3 3 3 \n",
            "4 4 4 4 \n",
            "5 5 5 5 5 \n"
          ]
        }
      ],
      "source": [
        "#7\n",
        "rows=int(input(\"Enter the no of rows\"))\n",
        "for i in range(rows):\n",
        "    for j in range(i):\n",
        "        print(i, end=' ')\n",
        "    print('')"
      ]
    },
    {
      "cell_type": "code",
      "source": [
        "#2\n",
        "l1=[]\n",
        "n=int(input())\n",
        "for i in range(n):\n",
        " inp=input().split()\n",
        " if(inp[0].lower()=='append'):\n",
        "   l1.append(int(inp[1]))\n",
        " elif(inp[0].lower()=='insert'):\n",
        "   l1.insert(int(inp[1]),int(inp[2]))\n",
        " elif(inp[0].lower()=='print'):\n",
        "   print(l1)\n",
        " elif(inp[0].lower()=='remove'):\n",
        "   l1.remove(int(inp[1]))\n",
        " elif(inp[0].lower()=='sort'):\n",
        "   l1.sort()\n",
        " elif(inp[0].lower()=='pop'):\n",
        "   l1.pop()\n",
        " elif(inp[0].lower()=='reverse'):\n",
        "   l1.reverse()"
      ],
      "metadata": {
        "colab": {
          "base_uri": "https://localhost:8080/"
        },
        "id": "IPoHMhYEM0rN",
        "outputId": "eccff61e-d714-4d3e-a3e6-7265112429ca"
      },
      "execution_count": null,
      "outputs": [
        {
          "output_type": "stream",
          "name": "stdout",
          "text": [
            "12\n",
            "insert 0 5\n",
            "insert 1 10\n",
            "insert 0 6\n",
            "print\n",
            "[6, 5, 10]\n",
            "remove 6\n",
            "append 9\n",
            "append 1\n",
            "sort\n",
            "print\n",
            "[1, 5, 9, 10]\n",
            "pop\n",
            "reverse\n",
            "print\n",
            "[9, 5, 1]\n"
          ]
        }
      ]
    },
    {
      "cell_type": "code",
      "execution_count": null,
      "metadata": {
        "id": "0CZP9Bk_HIHG",
        "colab": {
          "base_uri": "https://localhost:8080/"
        },
        "outputId": "5ba70109-a03f-4b5d-c01b-c0caed7e00d0"
      },
      "outputs": [
        {
          "output_type": "stream",
          "name": "stdout",
          "text": [
            "5 3\n",
            "89 90 78 93 80\n",
            "90 91 85 88 86 \n",
            "91 92 83 89 90.5\n",
            "29.666666666666668\n",
            "59.666666666666664\n",
            "90.0\n",
            "30.0\n",
            "60.333333333333336\n",
            "91.0\n",
            "26.0\n",
            "54.333333333333336\n",
            "82.0\n",
            "31.0\n",
            "60.333333333333336\n",
            "90.0\n",
            "26.666666666666668\n",
            "55.333333333333336\n",
            "85.5\n"
          ]
        }
      ],
      "source": [
        "#1\n",
        "N,X=list(map(int,input().split()))\n",
        "sum=0\n",
        "a=[]\n",
        "for i in range(X):\n",
        "  l=list(map(float,input().split()))\n",
        "  a.append(l)\n",
        "z=list(zip(*a))\n",
        "for j in z:\n",
        "  sum=0\n",
        "  for i in j:\n",
        "    sum=sum+i;\n",
        "    print(sum/X)"
      ]
    },
    {
      "cell_type": "code",
      "source": [
        "d=\"bcdabcd\"\n",
        "dict={}\n"
      ],
      "metadata": {
        "id": "eekPL-udu0fx"
      },
      "execution_count": null,
      "outputs": []
    },
    {
      "cell_type": "code",
      "execution_count": null,
      "metadata": {
        "id": "_97pNA2gNoz-"
      },
      "outputs": [],
      "source": [
        "#3\n",
        "n=int(input())\n",
        "c=0\n",
        "dict={'Name':[],'M1':[],'M2':[],'M3':[]}\n",
        "for i in range(n):\n",
        "  inp=input().split()\n",
        "  dict=['Name'].append(inp[0])\n",
        "  dict=['M1'].append(float(inp[1]))\n",
        "  dict=['M2'].append(float(inp[1]))\n",
        "  dict=['M3'].append(float(inp[1]))\n",
        "name=input()\n",
        "for i in range(n):\n",
        "  if(name==dict['Name'][i]):\n",
        "    c=i\n",
        "    break\n",
        "print(\"%.2f\"%float((dict['M1'][c]+dict['M2'][c]+dict['M3'][c]/3.00)))"
      ]
    },
    {
      "cell_type": "code",
      "execution_count": null,
      "metadata": {
        "id": "5Ysk5QzcjgX5",
        "colab": {
          "base_uri": "https://localhost:8080/"
        },
        "outputId": "f9287fbd-94ef-4b53-f95c-15d761fe25fb"
      },
      "outputs": [
        {
          "output_type": "stream",
          "name": "stdout",
          "text": [
            "Given list: [10, 20, 30, 40, 10]\n",
            "result is True\n",
            "Given list: [75, 65, 35, 75, 30]\n",
            "result is False\n"
          ]
        }
      ],
      "source": [
        "#6\n",
        "def fls(numberList):\n",
        "    print(\"Given list:\", numberList)\n",
        "    \n",
        "    if numberList[0] == numberList[-1]:\n",
        "        return True\n",
        "    else:\n",
        "        return False\n",
        "\n",
        "numbers_x = [10, 20, 30, 40, 10]\n",
        "print(\"result is\", fls(numbers_x))\n",
        "\n",
        "numbers_y = [75, 65, 35, 75, 30]\n",
        "print(\"result is\", fls(numbers_y))"
      ]
    },
    {
      "cell_type": "code",
      "source": [
        "#5\n",
        "str=input(\"Enter a string\")\n",
        "#print(len(str))\n",
        "N=int(input(\"Enter the index to replace at\"))\n",
        "X=input(\"Enter the value\")\n",
        "str1 = str[:N] + X + str[N+1:]\n",
        "print(str1)\n",
        "\n",
        "\n"
      ],
      "metadata": {
        "id": "3MJKVc-VKBkt",
        "colab": {
          "base_uri": "https://localhost:8080/"
        },
        "outputId": "11e81089-beaf-4bc1-af81-db934896ba3d"
      },
      "execution_count": null,
      "outputs": [
        {
          "output_type": "stream",
          "name": "stdout",
          "text": [
            "Enter a stringabracadabra \n",
            "Enter the index to replace at5\n",
            "Enter the valuek\n",
            "abrackdabra \n"
          ]
        }
      ]
    }
  ],
  "metadata": {
    "colab": {
      "collapsed_sections": [],
      "provenance": [],
      "include_colab_link": true
    },
    "kernelspec": {
      "display_name": "Python 3",
      "name": "python3"
    },
    "language_info": {
      "name": "python"
    }
  },
  "nbformat": 4,
  "nbformat_minor": 0
}
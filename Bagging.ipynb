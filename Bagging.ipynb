{
  "nbformat": 4,
  "nbformat_minor": 0,
  "metadata": {
    "colab": {
      "provenance": [],
      "authorship_tag": "ABX9TyOEmbZaKl+mHrqoL9lr8Yv0",
      "include_colab_link": true
    },
    "kernelspec": {
      "name": "python3",
      "display_name": "Python 3"
    },
    "language_info": {
      "name": "python"
    }
  },
  "cells": [
    {
      "cell_type": "markdown",
      "metadata": {
        "id": "view-in-github",
        "colab_type": "text"
      },
      "source": [
        "<a href=\"https://colab.research.google.com/github/HiyaJain22/Compute-Tasks/blob/main/Bagging.ipynb\" target=\"_parent\"><img src=\"https://colab.research.google.com/assets/colab-badge.svg\" alt=\"Open In Colab\"/></a>"
      ]
    },
    {
      "cell_type": "code",
      "execution_count": 1,
      "metadata": {
        "id": "O0aWduiOxL4Q"
      },
      "outputs": [],
      "source": [
        "import numpy as np\n",
        "import pandas as pd\n",
        "from sklearn.tree import DecisionTreeClassifier\n",
        "from sklearn.ensemble import BaggingClassifier\n",
        "from sklearn.metrics import accuracy_score"
      ]
    },
    {
      "cell_type": "code",
      "source": [
        "df=pd.read_csv('/content/churndata_processed.csv')"
      ],
      "metadata": {
        "id": "5Le_YF5U0gdO"
      },
      "execution_count": 2,
      "outputs": []
    },
    {
      "cell_type": "code",
      "source": [
        "df.info()"
      ],
      "metadata": {
        "colab": {
          "base_uri": "https://localhost:8080/"
        },
        "id": "kKrGZ8gr1iZF",
        "outputId": "9bf4c1d5-419a-4d26-91c7-9fddd2fade22"
      },
      "execution_count": 3,
      "outputs": [
        {
          "output_type": "stream",
          "name": "stdout",
          "text": [
            "<class 'pandas.core.frame.DataFrame'>\n",
            "RangeIndex: 7043 entries, 0 to 7042\n",
            "Data columns (total 23 columns):\n",
            " #   Column                     Non-Null Count  Dtype  \n",
            "---  ------                     --------------  -----  \n",
            " 0   months                     7043 non-null   float64\n",
            " 1   multiple                   7043 non-null   int64  \n",
            " 2   gb_mon                     7043 non-null   float64\n",
            " 3   security                   7043 non-null   int64  \n",
            " 4   backup                     7043 non-null   int64  \n",
            " 5   protection                 7043 non-null   int64  \n",
            " 6   support                    7043 non-null   int64  \n",
            " 7   unlimited                  7043 non-null   int64  \n",
            " 8   contract                   7043 non-null   float64\n",
            " 9   paperless                  7043 non-null   int64  \n",
            " 10  monthly                    7043 non-null   float64\n",
            " 11  satisfaction               7043 non-null   float64\n",
            " 12  churn_value                7043 non-null   int64  \n",
            " 13  payment_Credit Card        7043 non-null   int64  \n",
            " 14  payment_Mailed Check       7043 non-null   int64  \n",
            " 15  internet_type_DSL          7043 non-null   int64  \n",
            " 16  internet_type_Fiber Optic  7043 non-null   int64  \n",
            " 17  internet_type_None         7043 non-null   int64  \n",
            " 18  offer_Offer A              7043 non-null   int64  \n",
            " 19  offer_Offer B              7043 non-null   int64  \n",
            " 20  offer_Offer C              7043 non-null   int64  \n",
            " 21  offer_Offer D              7043 non-null   int64  \n",
            " 22  offer_Offer E              7043 non-null   int64  \n",
            "dtypes: float64(5), int64(18)\n",
            "memory usage: 1.2 MB\n"
          ]
        }
      ]
    },
    {
      "cell_type": "code",
      "source": [
        "df['churn_value'].value_counts()"
      ],
      "metadata": {
        "colab": {
          "base_uri": "https://localhost:8080/"
        },
        "id": "xFVZjwOi1jrK",
        "outputId": "418cdb71-11c9-4c27-cf65-01df4d0b78f2"
      },
      "execution_count": 4,
      "outputs": [
        {
          "output_type": "execute_result",
          "data": {
            "text/plain": [
              "0    5174\n",
              "1    1869\n",
              "Name: churn_value, dtype: int64"
            ]
          },
          "metadata": {},
          "execution_count": 4
        }
      ]
    },
    {
      "cell_type": "code",
      "source": [
        "from sklearn.model_selection import train_test_split\n",
        "from sklearn.utils import resample"
      ],
      "metadata": {
        "id": "DJv5zk001xwh"
      },
      "execution_count": 5,
      "outputs": []
    },
    {
      "cell_type": "code",
      "source": [
        "dfmajority=df[df['churn_value']==0]\n",
        "dfminority=df[df['churn_value']==1]\n",
        "dfsampled=resample(dfminority,replace=True,n_samples=5174,random_state=50)"
      ],
      "metadata": {
        "id": "kz-300TA4hZu"
      },
      "execution_count": 6,
      "outputs": []
    },
    {
      "cell_type": "code",
      "source": [
        "df1=pd.concat([dfsampled,dfmajority])"
      ],
      "metadata": {
        "id": "AE21icOr4mVh"
      },
      "execution_count": 7,
      "outputs": []
    },
    {
      "cell_type": "code",
      "source": [
        "df1['churn_value'].value_counts()"
      ],
      "metadata": {
        "colab": {
          "base_uri": "https://localhost:8080/"
        },
        "id": "7-caZ5yI4pUz",
        "outputId": "4289e2d3-cf5b-4992-a1af-b336f162f37c"
      },
      "execution_count": 8,
      "outputs": [
        {
          "output_type": "execute_result",
          "data": {
            "text/plain": [
              "1    5174\n",
              "0    5174\n",
              "Name: churn_value, dtype: int64"
            ]
          },
          "metadata": {},
          "execution_count": 8
        }
      ]
    },
    {
      "cell_type": "code",
      "source": [
        "y=df1.loc[:,'churn_value'].values\n",
        "x=df1.drop(['churn_value'],axis=1).values"
      ],
      "metadata": {
        "id": "usQ83vl35De4"
      },
      "execution_count": 9,
      "outputs": []
    },
    {
      "cell_type": "code",
      "source": [
        "x_train,x_test,y_train,y_test=train_test_split(x,y,test_size=0.33,random_state=50)\n",
        "d={}"
      ],
      "metadata": {
        "id": "GedO88IR5GMK"
      },
      "execution_count": 10,
      "outputs": []
    },
    {
      "cell_type": "code",
      "source": [
        "estimator_range=np.arange(5,150,1)\n",
        "model = []\n",
        "score = []\n",
        "for n_estimators in estimator_range:\n",
        "\n",
        "\n",
        "    clf = BaggingClassifier(base_estimator=DecisionTreeClassifier(),n_estimators = n_estimators, random_state = 22)\n",
        "\n",
        "\n",
        "    clf.fit(x_train, y_train)\n",
        "\n",
        "    # Append the model and score to their respective list\n",
        "    model.append(clf)\n",
        "    score.append(accuracy_score(y_true = y_test, y_pred = clf.predict(x_test)))\n",
        "     "
      ],
      "metadata": {
        "id": "VUZErRrv5NE2"
      },
      "execution_count": 12,
      "outputs": []
    },
    {
      "cell_type": "code",
      "source": [
        "\n",
        "max(score)"
      ],
      "metadata": {
        "colab": {
          "base_uri": "https://localhost:8080/"
        },
        "id": "fLjcrcy45UcL",
        "outputId": "e7bd38ba-df9c-403d-d136-21f427ecc930"
      },
      "execution_count": 13,
      "outputs": [
        {
          "output_type": "execute_result",
          "data": {
            "text/plain": [
              "0.9701317715959005"
            ]
          },
          "metadata": {},
          "execution_count": 13
        }
      ]
    },
    {
      "cell_type": "code",
      "source": [
        "y_pred=clf.predict(x_train)\n",
        "accuracy_score(y_train,y_pred)"
      ],
      "metadata": {
        "colab": {
          "base_uri": "https://localhost:8080/"
        },
        "id": "6zRI_QPH5U_A",
        "outputId": "81190056-6c80-4915-c3ee-5ad9367734e6"
      },
      "execution_count": 14,
      "outputs": [
        {
          "output_type": "execute_result",
          "data": {
            "text/plain": [
              "0.999423049185057"
            ]
          },
          "metadata": {},
          "execution_count": 14
        }
      ]
    },
    {
      "cell_type": "code",
      "source": [
        "dfmajority=df[df['churn_value']==0]\n",
        "dfminority=df[df['churn_value']==1]\n",
        "df_majority_undersampled = resample(dfmajority, replace=True, n_samples=1869, random_state=0)"
      ],
      "metadata": {
        "id": "lpADgN_-7VHb"
      },
      "execution_count": 15,
      "outputs": []
    },
    {
      "cell_type": "code",
      "source": [
        "df2 = pd.concat([dfminority, df_majority_undersampled])"
      ],
      "metadata": {
        "id": "yZfDhtvp71NI"
      },
      "execution_count": 16,
      "outputs": []
    },
    {
      "cell_type": "code",
      "source": [
        "df2['churn_value'].value_counts()"
      ],
      "metadata": {
        "colab": {
          "base_uri": "https://localhost:8080/"
        },
        "id": "KrEoK3nD8DfS",
        "outputId": "92ba5c65-5231-43b0-ff28-3061b035b4a1"
      },
      "execution_count": 18,
      "outputs": [
        {
          "output_type": "execute_result",
          "data": {
            "text/plain": [
              "1    1869\n",
              "0    1869\n",
              "Name: churn_value, dtype: int64"
            ]
          },
          "metadata": {},
          "execution_count": 18
        }
      ]
    },
    {
      "cell_type": "code",
      "source": [
        "y=df2.loc[:,'churn_value'].values\n",
        "x=df2.drop(['churn_value'],axis=1).values"
      ],
      "metadata": {
        "id": "ki_C_26Q8Mih"
      },
      "execution_count": 21,
      "outputs": []
    },
    {
      "cell_type": "code",
      "source": [
        "x_train,x_test,y_train,y_test=train_test_split(x,y,test_size=0.33,random_state=50)\n",
        "d={}"
      ],
      "metadata": {
        "id": "MR0WKMCy8VpI"
      },
      "execution_count": 22,
      "outputs": []
    },
    {
      "cell_type": "code",
      "source": [
        "estimator_range=np.arange(5,150,1)\n",
        "model = []\n",
        "score = []\n",
        "for n_estimators in estimator_range:\n",
        "\n",
        "\n",
        "    clf = BaggingClassifier(base_estimator=DecisionTreeClassifier(),n_estimators = n_estimators, random_state = 22)\n",
        "\n",
        "\n",
        "    clf.fit(x_train, y_train)\n",
        "\n",
        "    # Append the model and score to their respective list\n",
        "    model.append(clf)\n",
        "    score.append(accuracy_score(y_true = y_test, y_pred = clf.predict(x_test)))"
      ],
      "metadata": {
        "id": "ZDgHVMHl8eGU"
      },
      "execution_count": 23,
      "outputs": []
    },
    {
      "cell_type": "code",
      "source": [
        "max (score)"
      ],
      "metadata": {
        "colab": {
          "base_uri": "https://localhost:8080/"
        },
        "id": "bDRqRizT8iFG",
        "outputId": "a4dbfb5a-746f-4e76-8177-e21002cc8e98"
      },
      "execution_count": 24,
      "outputs": [
        {
          "output_type": "execute_result",
          "data": {
            "text/plain": [
              "0.9327390599675851"
            ]
          },
          "metadata": {},
          "execution_count": 24
        }
      ]
    },
    {
      "cell_type": "code",
      "source": [
        "y_pred=clf.predict(x_train)\n",
        "accuracy_score(y_train,y_pred)"
      ],
      "metadata": {
        "colab": {
          "base_uri": "https://localhost:8080/"
        },
        "id": "E3zsByKG8npc",
        "outputId": "bc51318c-f579-44d8-e9c2-33e1af592d4d"
      },
      "execution_count": 25,
      "outputs": [
        {
          "output_type": "execute_result",
          "data": {
            "text/plain": [
              "0.9992012779552716"
            ]
          },
          "metadata": {},
          "execution_count": 25
        }
      ]
    }
  ]
}